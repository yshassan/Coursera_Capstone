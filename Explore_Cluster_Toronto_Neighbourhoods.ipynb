{
    "nbformat_minor": 1, 
    "cells": [
        {
            "source": "## Segmenting and Clustering Neighbourhoods in Toronto\n\nThe code below extracts the website's html document and sythesises a table specified in the assignment given. First we import the necessary libraries for the task:", 
            "cell_type": "markdown", 
            "metadata": {}
        }, 
        {
            "execution_count": 1, 
            "cell_type": "code", 
            "metadata": {}, 
            "outputs": [
                {
                    "output_type": "stream", 
                    "name": "stdout", 
                    "text": "Libraries imported.\n"
                }
            ], 
            "source": "import numpy as np # library to handle data in a vectorized manner\n\nimport pandas as pd # library for data analsysis\npd.set_option('display.max_columns', None)\npd.set_option('display.max_rows', None)\n\nimport requests # library to handle requests\n\nfrom bs4 import BeautifulSoup\n\nprint('Libraries imported.')"
        }, 
        {
            "source": "The next step creates a BeautifulSoup object and assigns the website's html to the object 'soup'.\n\nThen we find the table elements within the html with find_all function. Finally we have to read the html via pandas's read_html() and inspect the shape.", 
            "cell_type": "markdown", 
            "metadata": {}
        }, 
        {
            "execution_count": 3, 
            "cell_type": "code", 
            "metadata": {}, 
            "outputs": [
                {
                    "execution_count": 3, 
                    "metadata": {}, 
                    "data": {
                        "text/plain": "(288, 3)"
                    }, 
                    "output_type": "execute_result"
                }
            ], 
            "source": "wiki_url = requests.get('https://en.wikipedia.org/wiki/List_of_postal_codes_of_Canada:_M').text # This will ping a website and return the HTML of the website\n\nsoup = BeautifulSoup(wiki_url,'lxml') # This creates a BeautifulSoup object via BeautifulSoup function. This package is for parsing HTML and XML documents\n#print(soup.prettify()) # 'Prettify' will let us view how the tags are nested in the document\ntable = soup.find_all('table')[0]\ndf = pd.read_html(str(table))\ndf = df[0]\ndf.shape"
        }, 
        {
            "source": "The data above now needs some preprocessing done. We tackle this by:\n- Remove rows that had 'Not assigned' in Borough field.\n- Replace 'Not assigned' in Neighbourhood field with the Borough of that row\n- Group by Postcode and Borough and concat multiple row entries with ',' between each ", 
            "cell_type": "markdown", 
            "metadata": {}
        }, 
        {
            "execution_count": 12, 
            "cell_type": "code", 
            "metadata": {}, 
            "outputs": [
                {
                    "execution_count": 12, 
                    "metadata": {}, 
                    "data": {
                        "text/plain": "(103, 3)"
                    }, 
                    "output_type": "execute_result"
                }
            ], 
            "source": "df = df.loc[df['Borough'] != 'Not assigned' ,:]\nNeighbourhood = df['Neighbourhood'].replace('Not assigned',df['Borough'])\ndf['Neighbourhood'] = Neighbourhood\ndf = df.groupby(['Postcode','Borough'])['Neighbourhood'].apply(','.join).reset_index()\ndf.shape"
        }, 
        {
            "execution_count": null, 
            "cell_type": "code", 
            "metadata": {}, 
            "outputs": [], 
            "source": ""
        }
    ], 
    "metadata": {
        "kernelspec": {
            "display_name": "Python 3.6", 
            "name": "python3", 
            "language": "python"
        }, 
        "language_info": {
            "mimetype": "text/x-python", 
            "nbconvert_exporter": "python", 
            "version": "3.6.8", 
            "name": "python", 
            "file_extension": ".py", 
            "pygments_lexer": "ipython3", 
            "codemirror_mode": {
                "version": 3, 
                "name": "ipython"
            }
        }
    }, 
    "nbformat": 4
}